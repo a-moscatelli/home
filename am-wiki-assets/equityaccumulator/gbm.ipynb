{
 "cells": [
  {
   "cell_type": "code",
   "execution_count": 1,
   "id": "374d693d",
   "metadata": {},
   "outputs": [],
   "source": [
    "# pip install pandas\n",
    "import pandas as pd\n",
    "import numpy as np"
   ]
  },
  {
   "cell_type": "markdown",
   "id": "f316e999",
   "metadata": {},
   "source": [
    "## step 1.1 - loading the historical data"
   ]
  },
  {
   "cell_type": "code",
   "execution_count": 2,
   "id": "d43b13d7",
   "metadata": {},
   "outputs": [],
   "source": [
    "folder = r'M:\\DEV\\github__a_moscatelli\\repositories\\home\\am-wiki-assets\\equityaccumulator'+'\\\\'\n",
    "\n",
    "hist_csv_filename = folder + 'JPM.csv'\n",
    "summary = {}\n",
    "verbose = False\n",
    "charting = True"
   ]
  },
  {
   "cell_type": "markdown",
   "id": "1ffd541c",
   "metadata": {},
   "source": [
    "*functions*"
   ]
  },
  {
   "cell_type": "code",
   "execution_count": 3,
   "id": "ddfd6cf8",
   "metadata": {},
   "outputs": [],
   "source": [
    "def load_past(hist_csv_filename):\n",
    "    histcolname='Date'\n",
    "    filedateformat='%Y-%m-%d'\n",
    "    #yh = pd.read_csv(hist_csv_filename)\n",
    "    yh = pd.read_csv(\n",
    "                    hist_csv_filename,\n",
    "                    #parse_dates=[histcolname],\n",
    "                    #date_parser=lambda x: datetime.strptime(x,filedateformat),\n",
    "                    index_col=histcolname)\n",
    "    yh = yh.rename(columns={'Adj Close': 'AdjClose'})\n",
    "    return yh"
   ]
  },
  {
   "cell_type": "code",
   "execution_count": 4,
   "id": "abaab8c4",
   "metadata": {},
   "outputs": [],
   "source": [
    "def print_summary():\n",
    "    # https://stackoverflow.com/questions/18193205/list-comprehension-returning-values-plus-none-none-none-why\n",
    "    devnull=[ print(kk,'=>',summary[kk]) for kk in summary.keys()] "
   ]
  },
  {
   "cell_type": "markdown",
   "id": "c1474217",
   "metadata": {},
   "source": [
    "*execution*"
   ]
  },
  {
   "cell_type": "code",
   "execution_count": 5,
   "id": "152e717c",
   "metadata": {},
   "outputs": [
    {
     "data": {
      "text/html": [
       "<div>\n",
       "<style scoped>\n",
       "    .dataframe tbody tr th:only-of-type {\n",
       "        vertical-align: middle;\n",
       "    }\n",
       "\n",
       "    .dataframe tbody tr th {\n",
       "        vertical-align: top;\n",
       "    }\n",
       "\n",
       "    .dataframe thead th {\n",
       "        text-align: right;\n",
       "    }\n",
       "</style>\n",
       "<table border=\"1\" class=\"dataframe\">\n",
       "  <thead>\n",
       "    <tr style=\"text-align: right;\">\n",
       "      <th></th>\n",
       "      <th>Open</th>\n",
       "      <th>High</th>\n",
       "      <th>Low</th>\n",
       "      <th>Close</th>\n",
       "      <th>AdjClose</th>\n",
       "      <th>Volume</th>\n",
       "    </tr>\n",
       "    <tr>\n",
       "      <th>Date</th>\n",
       "      <th></th>\n",
       "      <th></th>\n",
       "      <th></th>\n",
       "      <th></th>\n",
       "      <th></th>\n",
       "      <th></th>\n",
       "    </tr>\n",
       "  </thead>\n",
       "  <tbody>\n",
       "    <tr>\n",
       "      <th>2022-05-31</th>\n",
       "      <td>130.179993</td>\n",
       "      <td>133.149994</td>\n",
       "      <td>129.710007</td>\n",
       "      <td>132.229996</td>\n",
       "      <td>127.951584</td>\n",
       "      <td>17015000</td>\n",
       "    </tr>\n",
       "    <tr>\n",
       "      <th>2022-06-01</th>\n",
       "      <td>132.869995</td>\n",
       "      <td>132.869995</td>\n",
       "      <td>128.669998</td>\n",
       "      <td>129.910004</td>\n",
       "      <td>125.706657</td>\n",
       "      <td>10768000</td>\n",
       "    </tr>\n",
       "    <tr>\n",
       "      <th>2022-06-02</th>\n",
       "      <td>129.899994</td>\n",
       "      <td>132.009995</td>\n",
       "      <td>128.669998</td>\n",
       "      <td>132.000000</td>\n",
       "      <td>127.729042</td>\n",
       "      <td>8374800</td>\n",
       "    </tr>\n",
       "    <tr>\n",
       "      <th>2022-06-03</th>\n",
       "      <td>131.210007</td>\n",
       "      <td>131.770004</td>\n",
       "      <td>129.990005</td>\n",
       "      <td>130.160004</td>\n",
       "      <td>125.948578</td>\n",
       "      <td>8596000</td>\n",
       "    </tr>\n",
       "    <tr>\n",
       "      <th>2022-06-06</th>\n",
       "      <td>131.089996</td>\n",
       "      <td>132.389999</td>\n",
       "      <td>129.460007</td>\n",
       "      <td>129.729996</td>\n",
       "      <td>125.532494</td>\n",
       "      <td>11323500</td>\n",
       "    </tr>\n",
       "    <tr>\n",
       "      <th>...</th>\n",
       "      <td>...</td>\n",
       "      <td>...</td>\n",
       "      <td>...</td>\n",
       "      <td>...</td>\n",
       "      <td>...</td>\n",
       "      <td>...</td>\n",
       "    </tr>\n",
       "    <tr>\n",
       "      <th>2023-05-22</th>\n",
       "      <td>141.000000</td>\n",
       "      <td>141.639999</td>\n",
       "      <td>137.660004</td>\n",
       "      <td>138.029999</td>\n",
       "      <td>138.029999</td>\n",
       "      <td>11402500</td>\n",
       "    </tr>\n",
       "    <tr>\n",
       "      <th>2023-05-23</th>\n",
       "      <td>137.539993</td>\n",
       "      <td>139.029999</td>\n",
       "      <td>136.460007</td>\n",
       "      <td>136.589996</td>\n",
       "      <td>136.589996</td>\n",
       "      <td>9514900</td>\n",
       "    </tr>\n",
       "    <tr>\n",
       "      <th>2023-05-24</th>\n",
       "      <td>135.399994</td>\n",
       "      <td>136.350006</td>\n",
       "      <td>135.080002</td>\n",
       "      <td>135.339996</td>\n",
       "      <td>135.339996</td>\n",
       "      <td>8578000</td>\n",
       "    </tr>\n",
       "    <tr>\n",
       "      <th>2023-05-25</th>\n",
       "      <td>134.820007</td>\n",
       "      <td>136.270004</td>\n",
       "      <td>134.580002</td>\n",
       "      <td>135.669998</td>\n",
       "      <td>135.669998</td>\n",
       "      <td>8472500</td>\n",
       "    </tr>\n",
       "    <tr>\n",
       "      <th>2023-05-26</th>\n",
       "      <td>136.110001</td>\n",
       "      <td>137.600006</td>\n",
       "      <td>135.630005</td>\n",
       "      <td>136.940002</td>\n",
       "      <td>136.940002</td>\n",
       "      <td>8576700</td>\n",
       "    </tr>\n",
       "  </tbody>\n",
       "</table>\n",
       "<p>250 rows × 6 columns</p>\n",
       "</div>"
      ],
      "text/plain": [
       "                  Open        High         Low       Close    AdjClose  \\\n",
       "Date                                                                     \n",
       "2022-05-31  130.179993  133.149994  129.710007  132.229996  127.951584   \n",
       "2022-06-01  132.869995  132.869995  128.669998  129.910004  125.706657   \n",
       "2022-06-02  129.899994  132.009995  128.669998  132.000000  127.729042   \n",
       "2022-06-03  131.210007  131.770004  129.990005  130.160004  125.948578   \n",
       "2022-06-06  131.089996  132.389999  129.460007  129.729996  125.532494   \n",
       "...                ...         ...         ...         ...         ...   \n",
       "2023-05-22  141.000000  141.639999  137.660004  138.029999  138.029999   \n",
       "2023-05-23  137.539993  139.029999  136.460007  136.589996  136.589996   \n",
       "2023-05-24  135.399994  136.350006  135.080002  135.339996  135.339996   \n",
       "2023-05-25  134.820007  136.270004  134.580002  135.669998  135.669998   \n",
       "2023-05-26  136.110001  137.600006  135.630005  136.940002  136.940002   \n",
       "\n",
       "              Volume  \n",
       "Date                  \n",
       "2022-05-31  17015000  \n",
       "2022-06-01  10768000  \n",
       "2022-06-02   8374800  \n",
       "2022-06-03   8596000  \n",
       "2022-06-06  11323500  \n",
       "...              ...  \n",
       "2023-05-22  11402500  \n",
       "2023-05-23   9514900  \n",
       "2023-05-24   8578000  \n",
       "2023-05-25   8472500  \n",
       "2023-05-26   8576700  \n",
       "\n",
       "[250 rows x 6 columns]"
      ]
     },
     "execution_count": 5,
     "metadata": {},
     "output_type": "execute_result"
    }
   ],
   "source": [
    "yhz=load_past(hist_csv_filename)\n",
    "yhz"
   ]
  },
  {
   "cell_type": "code",
   "execution_count": 6,
   "id": "d8b4451f",
   "metadata": {},
   "outputs": [],
   "source": [
    "summary['hist_filename']=hist_csv_filename\n",
    "summary['hist_shape']=yhz.shape\n",
    "summary['hist_firstdt']=yhz.index[0]\n",
    "summary['hist_lastdt']=yhz.index[-1]"
   ]
  },
  {
   "cell_type": "markdown",
   "id": "34937337",
   "metadata": {},
   "source": [
    "## step 1.2 - profiling the historical data"
   ]
  },
  {
   "cell_type": "markdown",
   "id": "f0362c77",
   "metadata": {},
   "source": [
    "*functions*"
   ]
  },
  {
   "cell_type": "code",
   "execution_count": 7,
   "id": "cf09ebe2",
   "metadata": {},
   "outputs": [],
   "source": [
    "def add_columns(df,AdjClose):\n",
    "    #AdjClose='AdjClose'\n",
    "    df['LagAdjClose'] = df[AdjClose].shift(1)\n",
    "    df['DailyLogRet'] = np.log(df[AdjClose]/df['LagAdjClose'])\n",
    "    return df\n",
    "\n",
    "def getstats(df,DailyLogRet):\n",
    "    sigma = df[DailyLogRet].std()\n",
    "    mu = df[DailyLogRet].mean()\n",
    "    cnt = df[DailyLogRet].count()\n",
    "    return {'sigma':sigma,'mu':mu,'dretCount':cnt}\n"
   ]
  },
  {
   "cell_type": "markdown",
   "id": "d50a1fb7",
   "metadata": {},
   "source": [
    "*execution*"
   ]
  },
  {
   "cell_type": "code",
   "execution_count": 8,
   "id": "f4cc11e9",
   "metadata": {},
   "outputs": [],
   "source": [
    "yh=add_columns(yhz,'AdjClose')"
   ]
  },
  {
   "cell_type": "code",
   "execution_count": 9,
   "id": "551651f7",
   "metadata": {},
   "outputs": [
    {
     "data": {
      "text/plain": [
       "count    249.000000\n",
       "mean       0.000273\n",
       "std        0.017309\n",
       "min       -0.055657\n",
       "25%       -0.010019\n",
       "50%        0.000264\n",
       "75%        0.009317\n",
       "max        0.072795\n",
       "Name: DailyLogRet, dtype: float64"
      ]
     },
     "execution_count": 9,
     "metadata": {},
     "output_type": "execute_result"
    }
   ],
   "source": [
    "yh.DailyLogRet.describe()"
   ]
  },
  {
   "cell_type": "code",
   "execution_count": 10,
   "id": "1b9bc6e4",
   "metadata": {},
   "outputs": [
    {
     "data": {
      "text/plain": [
       "{'sigma': 0.017308744241388962, 'mu': 0.0002726544013365923, 'dretCount': 249}"
      ]
     },
     "execution_count": 10,
     "metadata": {},
     "output_type": "execute_result"
    }
   ],
   "source": [
    "yhs = getstats(yh,'DailyLogRet')\n",
    "summary['hist_stats'] = yhs\n",
    "yhs"
   ]
  },
  {
   "cell_type": "markdown",
   "id": "2e02c56c",
   "metadata": {},
   "source": [
    "## step 1.3 - computing the future price paths"
   ]
  },
  {
   "cell_type": "markdown",
   "id": "6194b84d",
   "metadata": {},
   "source": [
    "*functions*"
   ]
  },
  {
   "cell_type": "code",
   "execution_count": 11,
   "id": "c7cf1b58",
   "metadata": {},
   "outputs": [],
   "source": [
    "import matplotlib.pyplot as plt\n",
    "#from scipy.stats import norm\n",
    "import math"
   ]
  },
  {
   "cell_type": "code",
   "execution_count": 12,
   "id": "d55ed8a3",
   "metadata": {},
   "outputs": [],
   "source": [
    "from datetime import datetime"
   ]
  },
  {
   "cell_type": "code",
   "execution_count": 13,
   "id": "22bcf3fa",
   "metadata": {},
   "outputs": [],
   "source": [
    "# source: https://en.wikipedia.org/wiki/Geometric_Brownian_motion#Simulating_sample_paths\n",
    "\n",
    "def get_futpath(drift,vol,n,lastclose):\n",
    "    dt = 0.1\n",
    "    x0 = lastclose\n",
    "    #n = 252\n",
    "    mu = drift\n",
    "    sigma = vol\n",
    "    sz=1\n",
    "    x = np.exp(\n",
    "        (mu - sigma ** 2 / 2) * dt\n",
    "        +\n",
    "        sigma * np.random.normal(0, np.sqrt(dt), size=(sz, n)).T\n",
    "    )\n",
    "\n",
    "    x = np.vstack([np.ones(sz), x])\n",
    "    x = x0 * x.cumprod(axis=0)\n",
    "    rp = x[:,0]\n",
    "    df = pd.DataFrame({'AdjClose':rp},index=None) # , index=rows, columns=columns) # was px\n",
    "    df=add_columns(df,'AdjClose')  # was px\n",
    "    ss=getstats(df,'DailyLogRet')\n",
    "    if verbose: print('path stats:',ss)\n",
    "    delete_the_first = True # the first is the last of the provided historical prices\n",
    "    xfut = rp\n",
    "    assert len(xfut) == n+1\n",
    "    \n",
    "    if delete_the_first:\n",
    "        xfut = np.delete(rp, 0) # xfut[0] is going to be = xpast[-1], hence this removal.    \n",
    "    assert len(xfut) == n\n",
    "    return xfut # rp\n",
    "\n",
    "    #math.sqrt(250)"
   ]
  },
  {
   "cell_type": "markdown",
   "id": "f917e3b8",
   "metadata": {},
   "source": [
    "*execution*"
   ]
  },
  {
   "cell_type": "code",
   "execution_count": 14,
   "id": "5b6db2d7",
   "metadata": {},
   "outputs": [],
   "source": [
    "random_seed = 1 \n",
    "np.random.seed(random_seed)"
   ]
  },
  {
   "cell_type": "code",
   "execution_count": 15,
   "id": "64e57bd9",
   "metadata": {},
   "outputs": [
    {
     "name": "stdout",
     "output_type": "stream",
     "text": [
      "hist profile: {'sigma': 0.017308744241388962, 'mu': 0.0002726544013365923, 'dretCount': 249}\n"
     ]
    }
   ],
   "source": [
    "rpath = []\n",
    "fullpath = []\n",
    "\n",
    "noPaths = 252 # *2   # 1000\n",
    "futprices = 252\n",
    "\n",
    "summary['paths'] = noPaths\n",
    "summary['hist_lastclose'] = yh.AdjClose.iloc[-1]\n",
    "\n",
    "print('hist profile:',yhs)\n",
    "lastclose = yh.AdjClose.iloc[-1]\n",
    "summary['futprices'] = futprices\n",
    "summary['exec_start_rand'] = datetime.now()\n",
    "for ipath in range(noPaths):\n",
    "    #print('ipath:',ipath)\n",
    "    xpath=get_futpath(yhs['mu'],yhs['sigma'],futprices,lastclose)\n",
    "    rpath.append(xpath)\n"
   ]
  },
  {
   "cell_type": "code",
   "execution_count": 16,
   "id": "c98df179",
   "metadata": {},
   "outputs": [],
   "source": [
    "xpast = yh.AdjClose.values # = yh.AdjClose.to_numpy()\n",
    "# building the hist+fut paths = the inputs of the pricer\n",
    "for ipath in range(noPaths):\n",
    "    xfut = rpath[ipath]\n",
    "    full = np.concatenate([xpast,xfut])\n",
    "    fullpath.append(full)\n"
   ]
  },
  {
   "cell_type": "code",
   "execution_count": 17,
   "id": "9a70fed6",
   "metadata": {},
   "outputs": [
    {
     "data": {
      "image/png": "[encoded data removed]",
      "text/plain": [
       "<Figure size 432x288 with 1 Axes>"
      ]
     },
     "metadata": {
      "needs_background": "light"
     },
     "output_type": "display_data"
    }
   ],
   "source": [
    "if True:\n",
    "    for ipath in range(noPaths):\n",
    "        plt.plot(fullpath[ipath])\n",
    "        plt.title(\"Realizations of Geometric Brownian Motion\")\n",
    "    #plt.show()"
   ]
  },
  {
   "cell_type": "markdown",
   "id": "d1802bfb",
   "metadata": {},
   "source": [
    "## step 2.1 - loading pricing specs"
   ]
  },
  {
   "cell_type": "code",
   "execution_count": 18,
   "id": "114e02a2",
   "metadata": {},
   "outputs": [],
   "source": [
    "import yaml  # pip install pyyaml\n",
    "from datetime import datetime, timedelta"
   ]
  },
  {
   "cell_type": "markdown",
   "id": "f4b68118",
   "metadata": {},
   "source": [
    "*functions*"
   ]
  },
  {
   "cell_type": "code",
   "execution_count": 19,
   "id": "03b7ff8a",
   "metadata": {},
   "outputs": [],
   "source": [
    "def load_contract_spec(contract):\n",
    "    with open(contract, 'r') as file:\n",
    "        contract_spec = yaml.safe_load(file)\n",
    "        if False:\n",
    "            contract_spec['dates']['startdate'] = datetime.strptime(contract_spec['dates']['startdate'],   contract_spec['dates']['dateformat'])\n",
    "            contract_spec['dates']['enddate']   = datetime.strptime(contract_spec['dates']['enddate'],     contract_spec['dates']['dateformat'])\n",
    "        # 2022-07-08\n",
    "            del contract_spec['dates']['dateformat']\n",
    "        #print(contract_spec)\n",
    "        return contract_spec\n"
   ]
  },
  {
   "cell_type": "markdown",
   "id": "2b6c49eb",
   "metadata": {},
   "source": [
    "*execution*"
   ]
  },
  {
   "cell_type": "code",
   "execution_count": 20,
   "id": "8adfa269",
   "metadata": {},
   "outputs": [],
   "source": [
    "contract = 'contract.yml'\n",
    "contract_spec = load_contract_spec(folder + contract)\n",
    "summary['contract_specs']='contract.yml'\n",
    "summary['exec_start_simul'] = datetime.now()"
   ]
  },
  {
   "cell_type": "markdown",
   "id": "48dccdeb",
   "metadata": {},
   "source": [
    "## step 2.2 - prescriptive and pricing loop"
   ]
  },
  {
   "cell_type": "code",
   "execution_count": 21,
   "id": "0776950d",
   "metadata": {},
   "outputs": [],
   "source": [
    "import math"
   ]
  },
  {
   "cell_type": "code",
   "execution_count": 22,
   "id": "06437de1",
   "metadata": {},
   "outputs": [],
   "source": [
    "import statistics"
   ]
  },
  {
   "cell_type": "markdown",
   "id": "174343aa",
   "metadata": {},
   "source": [
    "*functions*"
   ]
  },
  {
   "cell_type": "code",
   "execution_count": 23,
   "id": "f30b7f4b",
   "metadata": {},
   "outputs": [],
   "source": [
    "class Hdf:\n",
    "    df = None\n",
    "    def _dbg(self,trace):\n",
    "        print('count of dates after','<'+trace+'>',':',self.df.shape[0])\n",
    "    #def __init__(self):\n",
    "        #self._dbg('init')\n",
    "    \n",
    "    def load_df(self,df):\n",
    "        self.df = df\n",
    "        \n",
    "    def load_csv(self, hist_csv_filename,histcolname,filedateformat):\n",
    "        self.df = pd.read_csv(\n",
    "                    hist_csv_filename,\n",
    "                    parse_dates=[histcolname],\n",
    "                    date_parser=lambda x: datetime.strptime(x,filedateformat),\n",
    "                    index_col=histcolname)\n",
    "        self._dbg('init')\n",
    "        # https://www.dataquest.io/blog/tutorial-time-series-analysis-with-pandas/ follows the same steps\n",
    "        False and print(self.df.dtypes)\n",
    "\n",
    "    def withSignal(self,colname,lambdasignal,activation):\n",
    "        assert False\n",
    "        assert activation in ['up','down']\n",
    "        self.df[colname] = self.df.apply(lambda row: lambdasignal(row), axis=1).copy()\n",
    "        fdf = self.df[self.df[colname]]\n",
    "        if fdf.shape[0]>=0:\n",
    "            activation_index = fdf.index[0]\n",
    "            print('activation_index',activation_index)\n",
    "            if activation=='up':\n",
    "                self.df[colname] = self.df.apply(lambda row: row.name >= activation_index, axis=1).copy()\n",
    "            if activation=='down':\n",
    "                self.df[colname] = self.df.apply(lambda row: row.name <= activation_index, axis=1).copy()\n",
    "        self._dbg(colname)\n",
    "        return self"
   ]
  },
  {
   "cell_type": "code",
   "execution_count": 24,
   "id": "02595d45",
   "metadata": {},
   "outputs": [],
   "source": [
    "def hist(field,date,dayoffset,hdf):\n",
    "    #global hdf\n",
    "    # historical data lookup - relative to T\n",
    "    assert dayoffset <= 0\n",
    "    # date is str\n",
    "    #date_ = datetime.strptime(date,\"%Y-%m-%d\")\n",
    "    #date2 = date + timedelta(days=dayoffset)\t# may not be included in the df\n",
    "    #print('hist:',date,field,dayoffset,date2)\n",
    "    ret = hdf.df.shift(dayoffset).at[date,field]\n",
    "    #print('shifted hist:',hdf.df.shift(dayoffset).loc[date])\n",
    "    #ret = hdf.df.at[date2,field]\n",
    "    #print('ret:',ret)\n",
    "    if not ret: ret=0\n",
    "    return ret\n"
   ]
  },
  {
   "cell_type": "code",
   "execution_count": 25,
   "id": "e35a0df2",
   "metadata": {},
   "outputs": [],
   "source": [
    "#lastdate=yh.index[-1]\n",
    "#lastdt=datetime.strptime(lastdate,\"%Y-%m-%d\")\n",
    "\n",
    "\n",
    "def getnextdt(lastdt,considerPublicHolidays, useStrings):\n",
    "    assert not considerPublicHolidays\n",
    "    if useStrings:\n",
    "        lastdt=datetime.strptime(lastdt,\"%Y-%m-%d\")\n",
    "    dow_eur=lastdt.strftime(\"%a\")\n",
    "    #print(lastdt,dow_eur)\n",
    "    offset=1\n",
    "    if dow_eur=='Fri': offset=3\n",
    "    if dow_eur=='Sat': offset=2\n",
    "    \n",
    "    lastdt = lastdt + timedelta(days=offset)\n",
    "    if useStrings:\n",
    "        return datetime.strftime(lastdt,\"%Y-%m-%d\")\n",
    "    else:\n",
    "        return lastdt\n",
    "\n",
    "\n"
   ]
  },
  {
   "cell_type": "code",
   "execution_count": 26,
   "id": "296b60cf",
   "metadata": {},
   "outputs": [],
   "source": [
    "def get_future_dates(lastdate,path):\n",
    "    futdt = []\n",
    "    curdt=lastdate\n",
    "    futpathx=rpath[path]\n",
    "    for px in futpathx:\n",
    "        curdt=getnextdt(curdt,False,True)\n",
    "        futdt.append(curdt)\n",
    "        #print(px)\n",
    "        #pass\n",
    "    assert len(futdt) == len(rpath[path])\n",
    "    return futdt"
   ]
  },
  {
   "cell_type": "code",
   "execution_count": 27,
   "id": "e189bda8",
   "metadata": {},
   "outputs": [],
   "source": [
    "def compute1_noncumul(hdf,contract_spec):\n",
    "    \n",
    "    #print(contract_spec['dates']['startdate'], contract_spec['dates']['enddate'])\n",
    "    hdf.df['live'] = hdf.df.apply(lambda row:  contract_spec['dates']['startdate'] <= row.name <= contract_spec['dates']['enddate'], axis=1)\n",
    "    hdf.df['KI'] = hdf.df.apply(lambda row:  row.live and eval(contract_spec['knock-in'],{'row':row}), axis=1).cummax()\n",
    "    # the input of cummax is a df column having true when the KI condition is met. cummax() keeps confirming True in the future once met. cummax = carryover of True.\n",
    "    hdf.df['KO'] = hdf.df.apply(lambda row:  row.KI and eval(contract_spec['knock-out'],{'row':row}), axis=1).cummax()\n",
    "    hdf.df['accumulation'] = hdf.df['KI'] & ~hdf.df['KO']\n",
    "    # bitwise is inside the KI zone and not inside the KO zone\n",
    "    return hdf\n",
    "\n",
    "\n"
   ]
  },
  {
   "cell_type": "code",
   "execution_count": 28,
   "id": "4f7f3f32",
   "metadata": {},
   "outputs": [],
   "source": [
    "def compute2_cumul(hdf,contract_spec):\n",
    "\n",
    "    hdf.df.insert(0, 'SN', range(0, 0 + len(hdf.df)))\n",
    "\n",
    "    hdf.df['BQty']  = hdf.df.apply(lambda row: row.accumulation and eval(contract_spec['buy']['qty'],  {'row':row, 'math':math,'hist':hist,'H':hdf,'T':row.name,'BQ':BQ,'SQ':SQ}), axis=1)\n",
    "    hdf.df['BAt']   = hdf.df.apply(lambda row: row.accumulation and eval(contract_spec['buy']['at'],   {'row':row, 'math':math,'hist':hist,'H':hdf,'T':row.name}), axis=1)\n",
    "    hdf.df['BWhen'] = hdf.df.apply(lambda row: row.accumulation and eval(contract_spec['buy']['when'], {'row':row, 'math':math,'hist':hist,'H':hdf,'T':row.name}), axis=1)\n",
    "    hdf.df['SQty']  = hdf.df.apply(lambda row: row.accumulation and eval(contract_spec['sell']['qty'], {'row':row, 'math':math,'hist':hist,'H':hdf,'T':row.name,'BQ':BQ,'SQ':SQ}), axis=1)\n",
    "    hdf.df['SAt']   = hdf.df.apply(lambda row: row.accumulation and eval(contract_spec['sell']['at'],  {'row':row, 'math':math,'hist':hist,'H':hdf,'T':row.name}), axis=1)\n",
    "    hdf.df['SWhen'] = hdf.df.apply(lambda row: row.accumulation and eval(contract_spec['sell']['when'],{'row':row, 'math':math,'hist':hist,'H':hdf,'T':row.name}), axis=1)\n",
    "    #cashflow\n",
    "    hdf.df['BCF']   = hdf.df.apply(lambda row: row.accumulation and row.BWhen and - (row.BQty * row.BAt),axis=1)\n",
    "    hdf.df['SCF']   = hdf.df.apply(lambda row: row.accumulation and row.SWhen and + (row.SQty * row.SAt),axis=1)\n",
    "    #cumul\n",
    "    hdf.df['CumQty']= hdf.df.apply(lambda row: row.BWhen and row.BQty - row.SWhen and row.SQty , axis=1).cumsum()\n",
    "    hdf.df['CumCF'] = hdf.df.apply(lambda row: row.BCF + row.SCF, axis=1).cumsum()\n",
    "    return hdf\n",
    "\n"
   ]
  },
  {
   "cell_type": "code",
   "execution_count": 29,
   "id": "d2d26c77",
   "metadata": {},
   "outputs": [],
   "source": [
    "def get_lastCumCF_array():\n",
    "    lastCumCF_array = []\n",
    "    for ipath in range(noPaths):\n",
    "        #plt.plot(fullpath[ipath])\n",
    "        #plt.title(\"Realizations of Geometric Brownian Motion\")\n",
    "        #plt.show()\n",
    "\n",
    "        rpathx=rpath[ipath]\n",
    "        if verbose: print('min/max/avg path px',min(rpathx),max(rpathx),statistics.mean(rpathx))\n",
    "        futdf = pd.DataFrame({'AdjClose':rpathx},index=futdt)\n",
    "        fulldf = pd.concat([yh,futdf])\n",
    "\n",
    "        # simulate accumulation\n",
    "        #del hdf0\n",
    "        hdf0 = Hdf()\n",
    "        hdf0.load_df(fulldf)\n",
    "        hdf = compute1_noncumul(hdf0,contract_spec)\n",
    "        accumulation_occurs = hdf.df.loc[hdf.df.accumulation].shape[0] > 0\n",
    "        \n",
    "        if accumulation_occurs:\n",
    "            acc_a = hdf.df.loc[hdf.df.accumulation].head(1).index.values[0]\n",
    "            acc_z = hdf.df.loc[hdf.df.accumulation].tail(1).index.values[0]\n",
    "            if verbose: print('Accumulation','begins on:',acc_a,'ends on',acc_z) # .loc[hdf.df['accumulation']==True].idxmin())\n",
    "            # .loc[hdf.df.accumulation==True].idxmax())\n",
    "        else:\n",
    "            if verbose: print('Accumulation begins/ends: NEVER')\n",
    "\n",
    "        hdf = compute2_cumul(hdf,contract_spec)\n",
    "        # hdf.df\n",
    "        lastCumCF=hdf.df[\"CumCF\"].iloc[-1]\n",
    "        avgCumCF=hdf.df[\"CumCF\"].mean()\n",
    "        if verbose: print('ipath',ipath,'CumCF',lastCumCF,'avgCumCF',avgCumCF)\n",
    "        lastCumCF_array.append(lastCumCF)\n",
    "\n",
    "        if False:\n",
    "            plt.plot(hdf.df[\"CumCF\"]) #, df[\"Y\"])\n",
    "            plt.show()\n",
    "    return lastCumCF_array"
   ]
  },
  {
   "cell_type": "markdown",
   "id": "504f68c7",
   "metadata": {},
   "source": [
    "*execution*"
   ]
  },
  {
   "cell_type": "code",
   "execution_count": 30,
   "id": "1fd450ee",
   "metadata": {},
   "outputs": [],
   "source": [
    "assert max(True,False)==True and min(True,False)==False\n",
    "# ... as a verification of any platform-dependent logic\n",
    "\n",
    "lastdate=yh.index[-1]\n",
    "futdt = get_future_dates(lastdate,0)\n",
    "summary['fut_firstdt'] = futdt[0]\n",
    "summary['fut_lastdt'] = futdt[-1]"
   ]
  },
  {
   "cell_type": "code",
   "execution_count": 31,
   "id": "79ca6ab6",
   "metadata": {},
   "outputs": [
    {
     "name": "stdout",
     "output_type": "stream",
     "text": [
      "hist_filename => M:\\DEV\\github__a_moscatelli\\repositories\\home\\am-wiki-assets\\equityaccumulator\\JPM.csv\n",
      "hist_shape => (250, 6)\n",
      "hist_firstdt => 2022-05-31\n",
      "hist_lastdt => 2023-05-26\n",
      "hist_stats => {'sigma': 0.017308744241388962, 'mu': 0.0002726544013365923, 'dretCount': 249}\n",
      "paths => 252\n",
      "hist_lastclose => 136.940002\n",
      "futprices => 252\n",
      "exec_start_rand => 2023-09-05 11:48:22.049632\n",
      "contract_specs => contract.yml\n",
      "exec_start_simul => 2023-09-05 11:48:23.954958\n",
      "fut_firstdt => 2023-05-29\n",
      "fut_lastdt => 2024-05-14\n"
     ]
    }
   ],
   "source": [
    "print_summary()"
   ]
  },
  {
   "cell_type": "code",
   "execution_count": 32,
   "id": "b94d7cf1",
   "metadata": {},
   "outputs": [
    {
     "name": "stdout",
     "output_type": "stream",
     "text": [
      "going to start pricing 252 paths with prescriptive scenario 0 BQ/SQ (2, 4) time: 2023-09-05-11:48:24\n",
      "going to start pricing 252 paths with prescriptive scenario 1 BQ/SQ (9, 5) time: 2023-09-05-11:49:36\n",
      "going to start pricing 252 paths with prescriptive scenario 2 BQ/SQ (3, 9) time: 2023-09-05-11:50:53\n",
      "going to start pricing 252 paths with prescriptive scenario 3 BQ/SQ (7, 4) time: 2023-09-05-11:52:03\n",
      "going to start pricing 252 paths with prescriptive scenario 4 BQ/SQ (2, 3) time: 2023-09-05-11:53:13\n",
      "going to start pricing 252 paths with prescriptive scenario 5 BQ/SQ (1, 7) time: 2023-09-05-11:54:24\n",
      "going to start pricing 252 paths with prescriptive scenario 6 BQ/SQ (9, 2) time: 2023-09-05-11:55:35\n",
      "going to start pricing 252 paths with prescriptive scenario 7 BQ/SQ (5, 8) time: 2023-09-05-11:56:46\n",
      "going to start pricing 252 paths with prescriptive scenario 8 BQ/SQ (8, 9) time: 2023-09-05-11:57:57\n",
      "going to start pricing 252 paths with prescriptive scenario 9 BQ/SQ (8, 7) time: 2023-09-05-11:59:07\n",
      "going to start pricing 252 paths with prescriptive scenario 10 BQ/SQ (8, 3) time: 2023-09-05-12:00:17\n",
      "going to start pricing 252 paths with prescriptive scenario 11 BQ/SQ (9, 1) time: 2023-09-05-12:01:30\n",
      "going to start pricing 252 paths with prescriptive scenario 12 BQ/SQ (6, 4) time: 2023-09-05-12:02:46\n",
      "going to start pricing 252 paths with prescriptive scenario 13 BQ/SQ (8, 6) time: 2023-09-05-12:04:12\n",
      "going to start pricing 252 paths with prescriptive scenario 14 BQ/SQ (5, 1) time: 2023-09-05-12:05:36\n",
      "going to start pricing 252 paths with prescriptive scenario 15 BQ/SQ (3, 7) time: 2023-09-05-12:06:47\n",
      "going to start pricing 252 paths with prescriptive scenario 16 BQ/SQ (3, 9) time: 2023-09-05-12:07:58\n",
      "going to start pricing 252 paths with prescriptive scenario 17 BQ/SQ (7, 4) time: 2023-09-05-12:09:16\n",
      "going to start pricing 252 paths with prescriptive scenario 18 BQ/SQ (9, 7) time: 2023-09-05-12:10:32\n",
      "going to start pricing 252 paths with prescriptive scenario 19 BQ/SQ (6, 8) time: 2023-09-05-12:11:46\n"
     ]
    }
   ],
   "source": [
    "prsdata = pd.DataFrame(None, columns = [\"BQ\", \"SQ\",\"P_Loss\",\"MaxCumCF\",\"MinCumCF\"], index=None)\n",
    "sample_histog_data = None\n",
    "for prs in range(20):\n",
    "    BQ = np.random.randint(1, 10) # (inclusive,exclusive)\n",
    "    SQ = np.random.randint(1, 10) # (inclusive,exclusive)\n",
    "    print('going to start pricing '+str(noPaths)+' paths with prescriptive scenario',prs,'BQ/SQ',(BQ,SQ),'time:',datetime.now().strftime('%Y-%m-%d-%H:%M:%S'))\n",
    "    # MAP\n",
    "    lastCumCF_array = get_lastCumCF_array()\n",
    "    # REDUCE\n",
    "    sample_histog_data = lastCumCF_array\n",
    "    Ploss = len(list(filter(lambda cumcf: cumcf < 0, lastCumCF_array))) / len(lastCumCF_array)\n",
    "    max_lastCumCF_array = max(lastCumCF_array)\n",
    "    min_lastCumCF_array = min(lastCumCF_array)\n",
    "    prsdata.loc[len(prsdata)] = [BQ, SQ, Ploss, max_lastCumCF_array, min_lastCumCF_array]"
   ]
  },
  {
   "cell_type": "code",
   "execution_count": 33,
   "id": "3f8f28fc",
   "metadata": {},
   "outputs": [],
   "source": [
    "summary['exec_end'] = datetime.now()"
   ]
  },
  {
   "cell_type": "code",
   "execution_count": 34,
   "id": "4b6ed5a9",
   "metadata": {},
   "outputs": [],
   "source": [
    "if False:\n",
    "    plt.hist(sample_histog_data, density=True, bins=30)\n",
    "    plt.title(\"Distribution of Accounting P/L \"+str(prs))\n",
    "    None # to prevent non-required output"
   ]
  },
  {
   "cell_type": "code",
   "execution_count": 35,
   "id": "4c0c5b1f",
   "metadata": {},
   "outputs": [
    {
     "name": "stdout",
     "output_type": "stream",
     "text": [
      "hist_filename => M:\\DEV\\github__a_moscatelli\\repositories\\home\\am-wiki-assets\\equityaccumulator\\JPM.csv\n",
      "hist_shape => (250, 6)\n",
      "hist_firstdt => 2022-05-31\n",
      "hist_lastdt => 2023-05-26\n",
      "hist_stats => {'sigma': 0.017308744241388962, 'mu': 0.0002726544013365923, 'dretCount': 249}\n",
      "paths => 252\n",
      "hist_lastclose => 136.940002\n",
      "futprices => 252\n",
      "exec_start_rand => 2023-09-05 11:48:22.049632\n",
      "contract_specs => contract.yml\n",
      "exec_start_simul => 2023-09-05 11:48:23.954958\n",
      "fut_firstdt => 2023-05-29\n",
      "fut_lastdt => 2024-05-14\n",
      "exec_end => 2023-09-05 12:13:04.989987\n"
     ]
    }
   ],
   "source": [
    "print_summary()"
   ]
  },
  {
   "cell_type": "code",
   "execution_count": 36,
   "id": "ab390806",
   "metadata": {},
   "outputs": [
    {
     "name": "stdout",
     "output_type": "stream",
     "text": [
      "{\n",
      "    \"contract\": \"CC1\",\n",
      "    \"file\": \"jpm.csv\",\n",
      "    \"market\": \"NYSE\",\n",
      "    \"desc\": \"first cocoa. t = date of last close\",\n",
      "    \"knock-in\": \"row.AdjClose > 145\",\n",
      "    \"knock-out\": \"row.AdjClose <= 120\",\n",
      "    \"dates\": {\n",
      "        \"startdate\": \"2022-06-02\",\n",
      "        \"enddate\": \"2024-05-22\",\n",
      "        \"dateformat\": \"%Y-%m-%d\",\n",
      "        \"filedateformat\": \"%Y-%m-%d\"\n",
      "    },\n",
      "    \"comments\": \"can use min, max, avg, abs, math.ceil(), ...\",\n",
      "    \"missing\": \"forward linear\",\n",
      "    \"buy\": {\n",
      "        \"qty\": \"BQ\",\n",
      "        \"at\": \"hist('AdjClose',T,0,H)\",\n",
      "        \"when\": \"hist('AdjClose',T,0,H) > hist('AdjClose',T,-1,H)\"\n",
      "    },\n",
      "    \"sell\": {\n",
      "        \"qty\": \"SQ\",\n",
      "        \"at\": \"hist('AdjClose',T,0,H)\",\n",
      "        \"when\": \"hist('AdjClose',T,0,H) < hist('AdjClose',T,-1,H)\",\n",
      "        \"desc\": \"if 2% up or more, sell\"\n",
      "    }\n",
      "}\n"
     ]
    }
   ],
   "source": [
    "import json\n",
    "devnull = contract_spec.pop('offline',None)\n",
    "#ie print the contract specs excluding the 'offline' key\n",
    "print(json.dumps(contract_spec, indent=4))"
   ]
  },
  {
   "cell_type": "code",
   "execution_count": 37,
   "id": "969a2c79",
   "metadata": {},
   "outputs": [
    {
     "data": {
      "text/html": [
       "<div>\n",
       "<style scoped>\n",
       "    .dataframe tbody tr th:only-of-type {\n",
       "        vertical-align: middle;\n",
       "    }\n",
       "\n",
       "    .dataframe tbody tr th {\n",
       "        vertical-align: top;\n",
       "    }\n",
       "\n",
       "    .dataframe thead th {\n",
       "        text-align: right;\n",
       "    }\n",
       "</style>\n",
       "<table border=\"1\" class=\"dataframe\">\n",
       "  <thead>\n",
       "    <tr style=\"text-align: right;\">\n",
       "      <th></th>\n",
       "      <th>BQ</th>\n",
       "      <th>SQ</th>\n",
       "      <th>P_Loss</th>\n",
       "      <th>MaxCumCF</th>\n",
       "      <th>MinCumCF</th>\n",
       "    </tr>\n",
       "  </thead>\n",
       "  <tbody>\n",
       "    <tr>\n",
       "      <th>0</th>\n",
       "      <td>2.0</td>\n",
       "      <td>4.0</td>\n",
       "      <td>0.000000</td>\n",
       "      <td>50121.170219</td>\n",
       "      <td>0.000000</td>\n",
       "    </tr>\n",
       "    <tr>\n",
       "      <th>1</th>\n",
       "      <td>9.0</td>\n",
       "      <td>5.0</td>\n",
       "      <td>0.535714</td>\n",
       "      <td>2748.737467</td>\n",
       "      <td>-85903.633487</td>\n",
       "    </tr>\n",
       "    <tr>\n",
       "      <th>2</th>\n",
       "      <td>3.0</td>\n",
       "      <td>9.0</td>\n",
       "      <td>0.000000</td>\n",
       "      <td>132204.524247</td>\n",
       "      <td>0.000000</td>\n",
       "    </tr>\n",
       "    <tr>\n",
       "      <th>3</th>\n",
       "      <td>7.0</td>\n",
       "      <td>4.0</td>\n",
       "      <td>0.535714</td>\n",
       "      <td>2457.155996</td>\n",
       "      <td>-65206.350738</td>\n",
       "    </tr>\n",
       "    <tr>\n",
       "      <th>4</th>\n",
       "      <td>2.0</td>\n",
       "      <td>3.0</td>\n",
       "      <td>0.019841</td>\n",
       "      <td>31113.580580</td>\n",
       "      <td>-2010.434897</td>\n",
       "    </tr>\n",
       "    <tr>\n",
       "      <th>5</th>\n",
       "      <td>1.0</td>\n",
       "      <td>7.0</td>\n",
       "      <td>0.000000</td>\n",
       "      <td>120098.533306</td>\n",
       "      <td>0.000000</td>\n",
       "    </tr>\n",
       "    <tr>\n",
       "      <th>6</th>\n",
       "      <td>9.0</td>\n",
       "      <td>2.0</td>\n",
       "      <td>0.543651</td>\n",
       "      <td>873.607231</td>\n",
       "      <td>-129308.466805</td>\n",
       "    </tr>\n",
       "    <tr>\n",
       "      <th>7</th>\n",
       "      <td>5.0</td>\n",
       "      <td>8.0</td>\n",
       "      <td>0.011905</td>\n",
       "      <td>87287.746269</td>\n",
       "      <td>-3055.383862</td>\n",
       "    </tr>\n",
       "    <tr>\n",
       "      <th>8</th>\n",
       "      <td>8.0</td>\n",
       "      <td>9.0</td>\n",
       "      <td>0.107143</td>\n",
       "      <td>67431.553401</td>\n",
       "      <td>-19865.959868</td>\n",
       "    </tr>\n",
       "    <tr>\n",
       "      <th>9</th>\n",
       "      <td>8.0</td>\n",
       "      <td>7.0</td>\n",
       "      <td>0.392857</td>\n",
       "      <td>29416.374122</td>\n",
       "      <td>-43441.160708</td>\n",
       "    </tr>\n",
       "    <tr>\n",
       "      <th>10</th>\n",
       "      <td>8.0</td>\n",
       "      <td>3.0</td>\n",
       "      <td>0.543651</td>\n",
       "      <td>1310.410846</td>\n",
       "      <td>-97257.408772</td>\n",
       "    </tr>\n",
       "    <tr>\n",
       "      <th>11</th>\n",
       "      <td>9.0</td>\n",
       "      <td>1.0</td>\n",
       "      <td>0.543651</td>\n",
       "      <td>436.803615</td>\n",
       "      <td>-143776.744578</td>\n",
       "    </tr>\n",
       "    <tr>\n",
       "      <th>12</th>\n",
       "      <td>6.0</td>\n",
       "      <td>4.0</td>\n",
       "      <td>0.523810</td>\n",
       "      <td>3747.986108</td>\n",
       "      <td>-47732.051820</td>\n",
       "    </tr>\n",
       "    <tr>\n",
       "      <th>13</th>\n",
       "      <td>8.0</td>\n",
       "      <td>6.0</td>\n",
       "      <td>0.500000</td>\n",
       "      <td>10408.784483</td>\n",
       "      <td>-55562.105740</td>\n",
       "    </tr>\n",
       "    <tr>\n",
       "      <th>14</th>\n",
       "      <td>5.0</td>\n",
       "      <td>1.0</td>\n",
       "      <td>0.543651</td>\n",
       "      <td>436.803615</td>\n",
       "      <td>-73445.623533</td>\n",
       "    </tr>\n",
       "    <tr>\n",
       "      <th>15</th>\n",
       "      <td>3.0</td>\n",
       "      <td>7.0</td>\n",
       "      <td>0.000000</td>\n",
       "      <td>94189.344968</td>\n",
       "      <td>0.000000</td>\n",
       "    </tr>\n",
       "    <tr>\n",
       "      <th>16</th>\n",
       "      <td>3.0</td>\n",
       "      <td>9.0</td>\n",
       "      <td>0.000000</td>\n",
       "      <td>132204.524247</td>\n",
       "      <td>0.000000</td>\n",
       "    </tr>\n",
       "    <tr>\n",
       "      <th>17</th>\n",
       "      <td>7.0</td>\n",
       "      <td>4.0</td>\n",
       "      <td>0.535714</td>\n",
       "      <td>2457.155996</td>\n",
       "      <td>-65206.350738</td>\n",
       "    </tr>\n",
       "    <tr>\n",
       "      <th>18</th>\n",
       "      <td>9.0</td>\n",
       "      <td>7.0</td>\n",
       "      <td>0.476190</td>\n",
       "      <td>16461.779953</td>\n",
       "      <td>-59477.132699</td>\n",
       "    </tr>\n",
       "    <tr>\n",
       "      <th>19</th>\n",
       "      <td>6.0</td>\n",
       "      <td>8.0</td>\n",
       "      <td>0.035714</td>\n",
       "      <td>74333.152100</td>\n",
       "      <td>-9972.711451</td>\n",
       "    </tr>\n",
       "  </tbody>\n",
       "</table>\n",
       "</div>"
      ],
      "text/plain": [
       "     BQ   SQ    P_Loss       MaxCumCF       MinCumCF\n",
       "0   2.0  4.0  0.000000   50121.170219       0.000000\n",
       "1   9.0  5.0  0.535714    2748.737467  -85903.633487\n",
       "2   3.0  9.0  0.000000  132204.524247       0.000000\n",
       "3   7.0  4.0  0.535714    2457.155996  -65206.350738\n",
       "4   2.0  3.0  0.019841   31113.580580   -2010.434897\n",
       "5   1.0  7.0  0.000000  120098.533306       0.000000\n",
       "6   9.0  2.0  0.543651     873.607231 -129308.466805\n",
       "7   5.0  8.0  0.011905   87287.746269   -3055.383862\n",
       "8   8.0  9.0  0.107143   67431.553401  -19865.959868\n",
       "9   8.0  7.0  0.392857   29416.374122  -43441.160708\n",
       "10  8.0  3.0  0.543651    1310.410846  -97257.408772\n",
       "11  9.0  1.0  0.543651     436.803615 -143776.744578\n",
       "12  6.0  4.0  0.523810    3747.986108  -47732.051820\n",
       "13  8.0  6.0  0.500000   10408.784483  -55562.105740\n",
       "14  5.0  1.0  0.543651     436.803615  -73445.623533\n",
       "15  3.0  7.0  0.000000   94189.344968       0.000000\n",
       "16  3.0  9.0  0.000000  132204.524247       0.000000\n",
       "17  7.0  4.0  0.535714    2457.155996  -65206.350738\n",
       "18  9.0  7.0  0.476190   16461.779953  -59477.132699\n",
       "19  6.0  8.0  0.035714   74333.152100   -9972.711451"
      ]
     },
     "execution_count": 37,
     "metadata": {},
     "output_type": "execute_result"
    }
   ],
   "source": [
    "prsdata"
   ]
  },
  {
   "cell_type": "markdown",
   "id": "e0ec5c51",
   "metadata": {},
   "source": [
    "## contract parameters (Buyqty,SellQty) that resulted in the lowest Probability of Loss"
   ]
  },
  {
   "cell_type": "code",
   "execution_count": 38,
   "id": "b111b75a",
   "metadata": {},
   "outputs": [
    {
     "name": "stdout",
     "output_type": "stream",
     "text": [
      "     BQ   SQ  P_Loss       MaxCumCF  MinCumCF\n",
      "0   2.0  4.0     0.0   50121.170219       0.0\n",
      "2   3.0  9.0     0.0  132204.524247       0.0\n",
      "5   1.0  7.0     0.0  120098.533306       0.0\n",
      "15  3.0  7.0     0.0   94189.344968       0.0\n",
      "16  3.0  9.0     0.0  132204.524247       0.0\n"
     ]
    }
   ],
   "source": [
    "print(prsdata[prsdata.P_Loss == prsdata.P_Loss.min()])"
   ]
  },
  {
   "cell_type": "markdown",
   "id": "6c9874f6",
   "metadata": {},
   "source": [
    "### summary plot"
   ]
  },
  {
   "cell_type": "code",
   "execution_count": 47,
   "id": "df37ab82",
   "metadata": {},
   "outputs": [
    {
     "data": {
      "image/png": "[encoded data removed]",
      "text/plain": [
       "<Figure size 432x288 with 2 Axes>"
      ]
     },
     "metadata": {
      "needs_background": "light"
     },
     "output_type": "display_data"
    }
   ],
   "source": [
    "ax = prsdata.plot(kind='scatter',x='BQ',y='SQ',c='P_Loss',title='PLoss(BQ,SQ)')\n",
    "ax.set(xlabel=\"buy qty\", ylabel=\"sell qty\")\n",
    "None"
   ]
  },
  {
   "cell_type": "markdown",
   "id": "918a082e",
   "metadata": {},
   "source": [
    "## END"
   ]
  }
 ],
 "metadata": {
  "kernelspec": {
   "display_name": "Python 3 (ipykernel)",
   "language": "python",
   "name": "python3"
  },
  "language_info": {
   "codemirror_mode": {
    "name": "ipython",
    "version": 3
   },
   "file_extension": ".py",
   "mimetype": "text/x-python",
   "name": "python",
   "nbconvert_exporter": "python",
   "pygments_lexer": "ipython3",
   "version": "3.8.10"
  }
 },
 "nbformat": 4,
 "nbformat_minor": 5
}
